{
 "cells": [
  {
   "cell_type": "markdown",
   "id": "3ed1e1f6",
   "metadata": {},
   "source": [
    "只有两句的对话"
   ]
  },
  {
   "cell_type": "code",
   "execution_count": 1,
   "id": "5b8e4664",
   "metadata": {},
   "outputs": [
    {
     "name": "stdout",
     "output_type": "stream",
     "text": [
      "['为 什 么 听 一 面 之 辞 就 相 信 ？ 只 有 当 事 人 才 能 知 道 吧 ， 咱 们 旁 观 者 并 不 知 道 真 相 啊\\t因 为 另 一 个 当 事 人 不 站 出 来 啊 … 站 出 来 就 能 比 较 了 。\\n', '我 也 要 去 健 身 懒 半 年 了\\t我 一 直 懒 现 在 终 于 动 起 来 了\\n', '小 红 酒 不 断 啊\\t我 看 家 里 有 几 箱 ， 没 事 酌 两 杯\\n', '打 包 2 斤 牛 油 回 来 ， 谢 谢 。\\t我 谢 谢 你 …\\n']\n"
     ]
    }
   ],
   "source": [
    "import json\n",
    " \n",
    "finename = \"test.txt\"\n",
    "f = open(finename, encoding='utf-8')\n",
    "lines = f.readlines()\n",
    "\n",
    "print(lines)"
   ]
  },
  {
   "cell_type": "code",
   "execution_count": 2,
   "id": "3ebf171e",
   "metadata": {},
   "outputs": [
    {
     "name": "stdout",
     "output_type": "stream",
     "text": [
      "[['为 什 么 听 一 面 之 辞 就 相 信 ？ 只 有 当 事 人 才 能 知 道 吧 ， 咱 们 旁 观 者 并 不 知 道 真 相 啊', '因 为 另 一 个 当 事 人 不 站 出 来 啊 … 站 出 来 就 能 比 较 了 。'], ['我 也 要 去 健 身 懒 半 年 了', '我 一 直 懒 现 在 终 于 动 起 来 了'], ['小 红 酒 不 断 啊', '我 看 家 里 有 几 箱 ， 没 事 酌 两 杯'], ['打 包 2 斤 牛 油 回 来 ， 谢 谢 。', '我 谢 谢 你 …']]\n"
     ]
    }
   ],
   "source": [
    "lines_2 = []\n",
    "\n",
    "for line in lines:\n",
    "    lines_2.append(line.strip('\\n').split('\\t'))\n",
    "\n",
    "print(lines_2)"
   ]
  },
  {
   "cell_type": "code",
   "execution_count": 3,
   "id": "01d1b6dd",
   "metadata": {},
   "outputs": [],
   "source": [
    "jsontext ={\"XDAI-Form-ZH\":{\"Source\":\"LCCC\",\"Topic\":\"\",\"Components\":{\"talkers\":[\"A\",\"B\"],\"dlg\":[{\"talker\":0,\"text\":\"\"},{\"talker\":1,\"text\":\"\"}],\"qak\":[{\"talker\":0,\"text\":\"\"},{\"talker\":1,\"text\":\"\"}],\"query\":{\"talker\":0,\"text\":\"\"},\"mask\":{\"talker\":1,\"text\":\"[sMASK]\"},\"Postdlg\":[{\"talker\":1,\"text\":\"xxxx\"}]}}, \"Fomats\":{\"intra_utter_form\":\"{talker}:{text}\",\"inter_utter_token\":\"|\",\"prompt_form\":\"背景：{bgk} 对话：{concat([dlg,qak,Query])} {talkers[1]}:[sMASK]{concat([Postdlg]})\"}, \"Input\":\"\", \"Output\":\"\"}"
   ]
  },
  {
   "cell_type": "code",
   "execution_count": 4,
   "id": "0b590458",
   "metadata": {},
   "outputs": [],
   "source": [
    "def fill_in(jsontext, sentence1, sentence2):\n",
    "    jsontext['XDAI-Form-ZH']['Components']['dlg'][0]['text'] = sentence1\n",
    "    jsontext['XDAI-Form-ZH']['Components']['query']['text'] = sentence1\n",
    "    jsontext['Input'] = '对话：A：' + jsontext['XDAI-Form-ZH']['Components']['dlg'][0]['text'] + 'A：' + jsontext['XDAI-Form-ZH']['Components']['query']['text'] + 'B：' + jsontext['XDAI-Form-ZH']['Components']['mask']['text']\n",
    "    jsontext['Output'] = sentence2\n",
    "    return jsontext"
   ]
  },
  {
   "cell_type": "code",
   "execution_count": 5,
   "id": "26522e09",
   "metadata": {},
   "outputs": [],
   "source": [
    "with open('./dialogue_2.json', 'a') as dialogue:\n",
    "        dialogue.write(str(fill_in(jsontext, lines_2[0][0], lines_2[0][1])).replace(\"'\", '''\"'''))"
   ]
  },
  {
   "cell_type": "markdown",
   "id": "81429a4a",
   "metadata": {},
   "source": [
    "多于两句的对话"
   ]
  },
  {
   "cell_type": "code",
   "execution_count": 4,
   "id": "e3413bcd",
   "metadata": {
    "scrolled": true
   },
   "outputs": [
    {
     "name": "stdout",
     "output_type": "stream",
     "text": [
      "[['遭 淋 安 逸 了 ？', '是 哈 ， 你 没 遭 撒 ？', '晚 班', '那 起 来 这 么 早 ， 这 天 气 多 适 合 睡 觉', '睡 不 着 了'], ['生 快', '姐 也 要 快 哈', '恩 恩 昨 晚 玩 的 开 心 吗 ？', '挺 嗨 的 哦']]\n"
     ]
    }
   ],
   "source": [
    "import json\n",
    "\n",
    "path = \"./dialogue_json.json\"\n",
    "\n",
    "with open(path, \"r\", encoding='utf-8') as f:\n",
    "    dialogs = json.load(f)\n",
    "\n",
    "dialogs = dialogs['valid']\n",
    "\n",
    "print(dialogs)"
   ]
  },
  {
   "cell_type": "code",
   "execution_count": 5,
   "id": "168b60b9",
   "metadata": {},
   "outputs": [],
   "source": [
    "AB = [\"A\", \"B\"]\n",
    "\n",
    "for m in range(len(dialogs)):\n",
    "    \n",
    "    dialog = dialogs[m]\n",
    "    ques_index = 0\n",
    "    \n",
    "    #当对话长度>=3时执行\n",
    "    if len(dialog) >=3:\n",
    "        \n",
    "        #找到句尾含有？的最后一句话的位置\n",
    "        for sent_index in range(len(dialog)):\n",
    "            if (dialog[sent_index].endswith('？')) and (sent_index >= 1) and (sent_index <= len(dialog)-2):\n",
    "                ques_index = sent_index\n",
    "        \n",
    "        #如果这句话前后都有句子\n",
    "        if (ques_index >= 1) and (ques_index <= len(dialog)-2):\n",
    "            \n",
    "            ##输出前面的所有句子，这句话，和后面的两句话\n",
    "            #for n in range(ques_index+2):\n",
    "            #    print(dialog[n])\n",
    "            #print('------------')\n",
    "            \n",
    "            #未被填充的json\n",
    "            jsontext ={\"XDAI-Form-ZH\":{\"Source\":\"LCCC\",\"Topic\":\"\",\"Components\":{\"talkers\":[\"A\",\"B\"],\"dlg\":[],\"qak\":[],\"query\":{\"talker\":'',\"text\":\"\"},\"mask\":{\"talker\":'',\"text\":\"[sMASK]\"},\"Postdlg\":[]}}, \"Fomats\":{\"intra_utter_form\":\"{talker}:{text}\",\"inter_utter_token\":\"|\",\"prompt_form\":\"背景：{bgk} 对话：{concat([dlg,qak,Query])} {talkers[1]}:[sMASK]{concat([Postdlg]})\"}, \"Input\":\"对话：\", \"Output\":\"\"} \n",
    "            \n",
    "            #填充json的dlg部分\n",
    "            for n in range(ques_index):\n",
    "                jsontext[\"XDAI-Form-ZH\"][\"Components\"][\"dlg\"].append({\"talker\":0})\n",
    "                if n%2 == 0:\n",
    "                    jsontext[\"XDAI-Form-ZH\"][\"Components\"][\"dlg\"][n][\"talker\"] = 0\n",
    "                else:\n",
    "                    jsontext[\"XDAI-Form-ZH\"][\"Components\"][\"dlg\"][n][\"talker\"] = 1\n",
    "                jsontext[\"XDAI-Form-ZH\"][\"Components\"][\"dlg\"][n][\"text\"] = dialog[n]\n",
    "                jsontext['Input'] = jsontext['Input'] + AB[n%2] + '：' + dialog[n]\n",
    "            \n",
    "            #填充json的query部分\n",
    "            jsontext[\"XDAI-Form-ZH\"][\"Components\"]['query']['talker'] = ques_index%2\n",
    "            jsontext[\"XDAI-Form-ZH\"][\"Components\"]['query']['text'] = dialog[ques_index]\n",
    "            jsontext['Input'] = jsontext['Input'] + AB[ques_index%2] + '：' + dialog[ques_index]\n",
    "            \n",
    "            \n",
    "            #填充json的mask部分\n",
    "            jsontext['Input'] = jsontext['Input'] + AB[(ques_index+1)%2] + '：' + '[sMASK]'\n",
    "            jsontext['Output'] = dialog[ques_index+1]\n",
    "            jsontext[\"XDAI-Form-ZH\"][\"Components\"]['mask'][\"talker\"]=(ques_index+1)%2\n",
    "            \n",
    "            #填充json的Postdlg部分\n",
    "            if ques_index+2 < len(dialog):\n",
    "                for n in range((len(dialog)-1) - (ques_index+2) + 1):\n",
    "                    jsontext[\"XDAI-Form-ZH\"][\"Components\"]['Postdlg'].append({\"talker\":0})\n",
    "                    jsontext[\"XDAI-Form-ZH\"][\"Components\"]['Postdlg'][n][\"talker\"] = (ques_index+1+n+1)%2\n",
    "                    jsontext[\"XDAI-Form-ZH\"][\"Components\"]['Postdlg'][n][\"text\"] = dialog[ques_index+1+n+1]\n",
    "                    jsontext['Input'] = jsontext['Input'] + AB[(ques_index+1+n+1)%2] + '：' + dialog[ques_index+1+n+1]\n",
    "            \n",
    "            #输出json\n",
    "            with open('./{}.json'.format(m), 'a') as dialogue:\n",
    "                dialogue.write(str(jsontext).replace(\"'\", '''\"'''))"
   ]
  },
  {
   "cell_type": "code",
   "execution_count": null,
   "id": "0fd351d6",
   "metadata": {},
   "outputs": [],
   "source": []
  },
  {
   "cell_type": "code",
   "execution_count": null,
   "id": "4851bb63",
   "metadata": {},
   "outputs": [],
   "source": []
  }
 ],
 "metadata": {
  "kernelspec": {
   "display_name": "Python 3 (ipykernel)",
   "language": "python",
   "name": "python3"
  },
  "language_info": {
   "codemirror_mode": {
    "name": "ipython",
    "version": 3
   },
   "file_extension": ".py",
   "mimetype": "text/x-python",
   "name": "python",
   "nbconvert_exporter": "python",
   "pygments_lexer": "ipython3",
   "version": "3.8.13"
  }
 },
 "nbformat": 4,
 "nbformat_minor": 5
}
